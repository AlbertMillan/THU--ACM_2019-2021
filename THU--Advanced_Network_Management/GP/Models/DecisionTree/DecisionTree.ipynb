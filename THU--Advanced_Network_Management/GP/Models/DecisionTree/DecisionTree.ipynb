{
 "cells": [
  {
   "cell_type": "code",
   "execution_count": 2,
   "metadata": {},
   "outputs": [],
   "source": [
    "import numpy as np\n",
    "import pandas as pd\n",
    "import matplotlib.pyplot as plt\n",
    "from sklearn import preprocessing\n",
    "from sklearn import tree\n",
    "from sklearn.metrics import f1_score\n",
    "import glob\n",
    "import os\n",
    "%matplotlib inline"
   ]
  },
  {
   "cell_type": "markdown",
   "metadata": {},
   "source": [
    "## Model"
   ]
  },
  {
   "cell_type": "code",
   "execution_count": 3,
   "metadata": {},
   "outputs": [],
   "source": [
    "def conf_mat(pred,truth):\n",
    "    res = [0,0,0,0]\n",
    "    a = 0\n",
    "    \n",
    "    for i in range(len(truth)):\n",
    "        if truth[i] == 1:\n",
    "            if truth[i] == pred[i]:\n",
    "                a = 0\n",
    "            else:\n",
    "                a = 2\n",
    "                \n",
    "        else:\n",
    "            if truth[i] == pred[i]:\n",
    "                a = 1\n",
    "            else:\n",
    "                a = 3\n",
    "                \n",
    "        res[a] = res[a] + 1\n",
    "     \n",
    "    print(res)\n",
    "    return res"
   ]
  },
  {
   "cell_type": "markdown",
   "metadata": {},
   "source": [
    "## Multi-dataset Model"
   ]
  },
  {
   "cell_type": "code",
   "execution_count": 3,
   "metadata": {},
   "outputs": [
    {
     "name": "stdout",
     "output_type": "stream",
     "text": [
      "a40b1df87e3f1c87\n",
      "[22, 34376, 84, 0]\n",
      "b3b2e6d1a791d63a\n",
      "[0, 2046, 0, 16]\n",
      "da403e4e3f87c9e0\n",
      "[149, 31997, 113, 0]\n",
      "046ec29ddf80d62e\n",
      "[0, 2196, 0, 0]\n",
      "18fbb1d5a5dc099d\n",
      "[15, 32154, 36, 77]\n",
      "09513ae3e75778a3\n",
      "[0, 32088, 128, 27]\n",
      "07927a9a18fa19ae\n",
      "[7, 2667, 17, 49]\n",
      "cff6d3c01e6a6bfa\n",
      "[26, 36613, 263, 6]\n",
      "54e8a140f6237526\n",
      "[0, 2059, 0, 3]\n",
      "c58bfcbacb2822d1\n",
      "[0, 32089, 47, 31]\n",
      "7c189dd36f048a6c\n",
      "[17, 36843, 63, 0]\n",
      "8bef9af9a922e0b3\n",
      "[9, 32234, 67, 54]\n",
      "40e25005ff8992bd\n",
      "[14, 24904, 146, 0]\n",
      "76f4550c43334374\n",
      "[0, 2186, 4, 6]\n",
      "affb01ca2b4f0b45\n",
      "[19, 36786, 74, 41]\n",
      "88cf3a776ba00e7c\n",
      "[149, 15009, 662, 539]\n",
      "9bd90500bfd11edb\n",
      "[0, 32154, 0, 0]\n",
      "e0770391decc44ce\n",
      "[2483, 34047, 223, 3]\n",
      "8a20c229e9860d0c\n",
      "769894baefea4e9e\n",
      "[0, 2190, 6, 0]\n",
      "1c35dbf57f55f5e4\n",
      "[2588, 27695, 124, 1807]\n",
      "9ee5879409dccef9\n",
      "[39, 15107, 743, 474]\n",
      "71595dd7171f4540\n",
      "[10, 36637, 267, 3]\n",
      "8c892e5525f3e491\n",
      "[2452, 34067, 234, 0]\n",
      "a5bf5d65261d859a\n",
      "[4, 32160, 6, 0]\n",
      "02e99bd4f6cfb33f\n",
      "[618, 30554, 764, 205]\n"
     ]
    }
   ],
   "source": [
    "input_dir = './../train/KPI/'\n",
    "\n",
    "summary = pd.DataFrame(columns=['KPI', 'TP', 'TN', 'FP', 'FN', 'PRECISION', 'RECALL', 'F1_SCORE'])\n",
    "\n",
    "for fname in os.listdir(input_dir):\n",
    "    df  = pd.read_csv(os.path.join(input_dir, fname), index_col='timestamp')\n",
    "    kpi_name = df['KPI ID'].values[0]\n",
    "    print(kpi_name)\n",
    "    df = df.drop(['KPI ID'], axis=1)\n",
    "    \n",
    "    # Normalize Values\n",
    "    normalized_df=(df-df.min())/(df.max()-df.min())\n",
    "    normalized_df = normalized_df.astype({'label': 'int64'})\n",
    "    \n",
    "    # Split to Train and Test\n",
    "    train_set, test_set= np.split(normalized_df, [int(.75 *len(normalized_df))])\n",
    "    \n",
    "    # Format Train and Test\n",
    "    X = np.array(train_set['value']).reshape(-1, 1)\n",
    "    y = np.array(train_set['label'])\n",
    "    x_test = np.array(test_set['value']).reshape(-1,1)\n",
    "    y_test = np.array(test_set['label'])\n",
    "    \n",
    "    \n",
    "    # Check Valid Train Dataset\n",
    "    if len(np.unique(y)) > 1:\n",
    "\n",
    "        # Train Model\n",
    "        model = tree.DecisionTreeClassifier()\n",
    "        model.fit(X,y)\n",
    "\n",
    "        # Make Predictions\n",
    "        predictions = model.predict(x_test)\n",
    "\n",
    "        # Compute Confusion Matrix\n",
    "        cf = conf_mat(predictions,y_test) \n",
    "\n",
    "        # F1-Score\n",
    "        prec = 0\n",
    "        rec = 0\n",
    "        f1 = 0\n",
    "        if (cf[0] + cf[2]) != 0:\n",
    "            prec = cf[0] / (cf[0] + cf[2])\n",
    "        if (cf[0] + cf[3]) != 0:\n",
    "            rec  = cf[0] / (cf[0] + cf[3])\n",
    "        if (prec + rec) != 0:\n",
    "            f1   = 2 * (prec * rec / (prec+rec))\n",
    "\n",
    "    #     print(f1_score(predictions,y_test))\n",
    "\n",
    "\n",
    "        summary = summary.append({'KPI': kpi_name, \n",
    "                                   'TP': cf[0],  \n",
    "                                   'TN': cf[1], \n",
    "                                   'FP': cf[2], \n",
    "                                   'FN': cf[3], \n",
    "                                   'PRECISION': prec, \n",
    "                                   'RECALL': rec,     \n",
    "                                   'F1_SCORE': f1 }, ignore_index=True)\n",
    "        \n",
    "    else:\n",
    "        summary = summary.append({'KPI': kpi_name, \n",
    "                                   'TP': None,  \n",
    "                                   'TN': None, \n",
    "                                   'FP': None, \n",
    "                                   'FN': None, \n",
    "                                   'PRECISION': None, \n",
    "                                   'RECALL': None,     \n",
    "                                   'F1_SCORE': None }, ignore_index=True)\n",
    "    "
   ]
  },
  {
   "cell_type": "code",
   "execution_count": 4,
   "metadata": {},
   "outputs": [],
   "source": [
    "summary.to_csv('DT_Result.csv')"
   ]
  },
  {
   "cell_type": "markdown",
   "metadata": {},
   "source": [
    "## Single Class"
   ]
  },
  {
   "cell_type": "code",
   "execution_count": 24,
   "metadata": {},
   "outputs": [
    {
     "name": "stdout",
     "output_type": "stream",
     "text": [
      "e0770391decc44ce\n",
      "[180, 69477, 100, 155]\n"
     ]
    }
   ],
   "source": [
    "input_dir = './../../train/KPI/'\n",
    "fname = 'train_e0770391decc44ce.csv'\n",
    "\n",
    "summary = pd.DataFrame(columns=['KPI', 'TP', 'TN', 'FP', 'FN', 'PRECISION', 'RECALL', 'F1_SCORE'])\n",
    "\n",
    "df  = pd.read_csv(os.path.join(input_dir, fname), index_col='timestamp')\n",
    "kpi_name = df['KPI ID'].values[0]\n",
    "print(kpi_name)\n",
    "df = df.drop(['KPI ID'], axis=1)\n",
    "\n",
    "# Remove fault\n",
    "df = df[ df.index < '2017-07-09 13:50:00']\n",
    "\n",
    "# Normalize Values\n",
    "# normalized_df=(df-df.min())/(df.max()-df.min())\n",
    "# normalized_df = normalized_df.astype({'label': 'int64'})\n",
    "\n",
    "# # Split to Train and Test\n",
    "# train_set, test_set= np.split(normalized_df, [int(.75 *len(normalized_df))])\n",
    "\n",
    "train_set, test_set= np.split(df, [int(.50 *len(df))])\n",
    "\n",
    "\n",
    "# Format Train and Test\n",
    "X = np.array(train_set['value']).reshape(-1, 1)\n",
    "y = np.array(train_set['label'])\n",
    "x_test = np.array(test_set['value']).reshape(-1,1)\n",
    "y_test = np.array(test_set['label'])\n",
    "\n",
    "\n",
    "# Check Valid Train Dataset\n",
    "if len(np.unique(y)) > 1:\n",
    "\n",
    "    # Train Model\n",
    "    model = tree.DecisionTreeClassifier()\n",
    "    model.fit(X,y)\n",
    "\n",
    "    # Make Predictions\n",
    "    predictions = model.predict(x_test)\n",
    "\n",
    "    # Compute Confusion Matrix\n",
    "    cf = conf_mat(predictions,y_test) \n",
    "\n",
    "    # F1-Score\n",
    "    prec = 0\n",
    "    rec = 0\n",
    "    f1 = 0\n",
    "    if (cf[0] + cf[2]) != 0:\n",
    "        prec = cf[0] / (cf[0] + cf[2])\n",
    "    if (cf[0] + cf[3]) != 0:\n",
    "        rec  = cf[0] / (cf[0] + cf[3])\n",
    "    if (prec + rec) != 0:\n",
    "        f1   = 2 * (prec * rec / (prec+rec))\n",
    "\n",
    "\n",
    "    summary = summary.append({'KPI': kpi_name, \n",
    "                               'TP': cf[0],  \n",
    "                               'TN': cf[1], \n",
    "                               'FP': cf[2], \n",
    "                               'FN': cf[3], \n",
    "                               'PRECISION': prec, \n",
    "                               'RECALL': rec,     \n",
    "                               'F1_SCORE': f1 }, ignore_index=True)\n",
    "\n",
    "else:\n",
    "    summary = summary.append({'KPI': kpi_name, \n",
    "                               'TP': None,  \n",
    "                               'TN': None, \n",
    "                               'FP': None, \n",
    "                               'FN': None, \n",
    "                               'PRECISION': None, \n",
    "                               'RECALL': None,     \n",
    "                               'F1_SCORE': None }, ignore_index=True)"
   ]
  },
  {
   "cell_type": "code",
   "execution_count": 39,
   "metadata": {},
   "outputs": [
    {
     "data": {
      "text/plain": [
       "[<matplotlib.lines.Line2D at 0x7f6a92dc09d0>]"
      ]
     },
     "execution_count": 39,
     "metadata": {},
     "output_type": "execute_result"
    },
    {
     "data": {
      "image/png": "[encoded data removed]",
      "text/plain": [
       "<Figure size 864x576 with 1 Axes>"
      ]
     },
     "metadata": {
      "needs_background": "light"
     },
     "output_type": "display_data"
    }
   ],
   "source": [
    "# test_set['label'] = test_set['label'] * 1000\n",
    "test_set.plot(kind='line',figsize=(12,8))\n",
    "plt.plot(np.squeeze(df_pred.values.T)*1000)"
   ]
  },
  {
   "cell_type": "code",
   "execution_count": 34,
   "metadata": {},
   "outputs": [],
   "source": [
    "df_pred = pd.DataFrame(predictions, index=test_set.index)"
   ]
  },
  {
   "cell_type": "code",
   "execution_count": 27,
   "metadata": {},
   "outputs": [
    {
     "data": {
      "text/html": [
       "<div>\n",
       "<style scoped>\n",
       "    .dataframe tbody tr th:only-of-type {\n",
       "        vertical-align: middle;\n",
       "    }\n",
       "\n",
       "    .dataframe tbody tr th {\n",
       "        vertical-align: top;\n",
       "    }\n",
       "\n",
       "    .dataframe thead th {\n",
       "        text-align: right;\n",
       "    }\n",
       "</style>\n",
       "<table border=\"1\" class=\"dataframe\">\n",
       "  <thead>\n",
       "    <tr style=\"text-align: right;\">\n",
       "      <th></th>\n",
       "      <th>value</th>\n",
       "      <th>label</th>\n",
       "    </tr>\n",
       "    <tr>\n",
       "      <th>timestamp</th>\n",
       "      <th></th>\n",
       "      <th></th>\n",
       "    </tr>\n",
       "  </thead>\n",
       "  <tbody>\n",
       "    <tr>\n",
       "      <td>2017-05-20 13:43:00</td>\n",
       "      <td>8001.0</td>\n",
       "      <td>0</td>\n",
       "    </tr>\n",
       "    <tr>\n",
       "      <td>2017-05-20 13:44:00</td>\n",
       "      <td>8170.0</td>\n",
       "      <td>0</td>\n",
       "    </tr>\n",
       "    <tr>\n",
       "      <td>2017-05-20 13:45:00</td>\n",
       "      <td>8323.0</td>\n",
       "      <td>0</td>\n",
       "    </tr>\n",
       "    <tr>\n",
       "      <td>2017-05-20 13:46:00</td>\n",
       "      <td>8194.0</td>\n",
       "      <td>0</td>\n",
       "    </tr>\n",
       "    <tr>\n",
       "      <td>2017-05-20 13:47:00</td>\n",
       "      <td>8523.0</td>\n",
       "      <td>0</td>\n",
       "    </tr>\n",
       "    <tr>\n",
       "      <td>...</td>\n",
       "      <td>...</td>\n",
       "      <td>...</td>\n",
       "    </tr>\n",
       "    <tr>\n",
       "      <td>2017-07-09 13:45:00</td>\n",
       "      <td>8969.0</td>\n",
       "      <td>0</td>\n",
       "    </tr>\n",
       "    <tr>\n",
       "      <td>2017-07-09 13:46:00</td>\n",
       "      <td>9019.0</td>\n",
       "      <td>0</td>\n",
       "    </tr>\n",
       "    <tr>\n",
       "      <td>2017-07-09 13:47:00</td>\n",
       "      <td>9531.0</td>\n",
       "      <td>0</td>\n",
       "    </tr>\n",
       "    <tr>\n",
       "      <td>2017-07-09 13:48:00</td>\n",
       "      <td>9749.0</td>\n",
       "      <td>0</td>\n",
       "    </tr>\n",
       "    <tr>\n",
       "      <td>2017-07-09 13:49:00</td>\n",
       "      <td>9485.0</td>\n",
       "      <td>0</td>\n",
       "    </tr>\n",
       "  </tbody>\n",
       "</table>\n",
       "<p>69912 rows × 2 columns</p>\n",
       "</div>"
      ],
      "text/plain": [
       "                      value  label\n",
       "timestamp                         \n",
       "2017-05-20 13:43:00  8001.0      0\n",
       "2017-05-20 13:44:00  8170.0      0\n",
       "2017-05-20 13:45:00  8323.0      0\n",
       "2017-05-20 13:46:00  8194.0      0\n",
       "2017-05-20 13:47:00  8523.0      0\n",
       "...                     ...    ...\n",
       "2017-07-09 13:45:00  8969.0      0\n",
       "2017-07-09 13:46:00  9019.0      0\n",
       "2017-07-09 13:47:00  9531.0      0\n",
       "2017-07-09 13:48:00  9749.0      0\n",
       "2017-07-09 13:49:00  9485.0      0\n",
       "\n",
       "[69912 rows x 2 columns]"
      ]
     },
     "execution_count": 27,
     "metadata": {},
     "output_type": "execute_result"
    }
   ],
   "source": [
    "test_set"
   ]
  },
  {
   "cell_type": "code",
   "execution_count": 38,
   "metadata": {},
   "outputs": [
    {
     "data": {
      "text/plain": [
       "array([0, 0, 0, ..., 0, 0, 0])"
      ]
     },
     "execution_count": 38,
     "metadata": {},
     "output_type": "execute_result"
    }
   ],
   "source": [
    "np.squeeze(df_pred.values.T)"
   ]
  },
  {
   "cell_type": "code",
   "execution_count": 46,
   "metadata": {},
   "outputs": [
    {
     "data": {
      "text/plain": [
       "0.5853658536585366"
      ]
     },
     "execution_count": 46,
     "metadata": {},
     "output_type": "execute_result"
    }
   ],
   "source": [
    "f1_score(np.squeeze(df_pred.values.T), test_set.label/1000)"
   ]
  },
  {
   "cell_type": "code",
   "execution_count": 45,
   "metadata": {},
   "outputs": [
    {
     "data": {
      "text/html": [
       "<div>\n",
       "<style scoped>\n",
       "    .dataframe tbody tr th:only-of-type {\n",
       "        vertical-align: middle;\n",
       "    }\n",
       "\n",
       "    .dataframe tbody tr th {\n",
       "        vertical-align: top;\n",
       "    }\n",
       "\n",
       "    .dataframe thead th {\n",
       "        text-align: right;\n",
       "    }\n",
       "</style>\n",
       "<table border=\"1\" class=\"dataframe\">\n",
       "  <thead>\n",
       "    <tr style=\"text-align: right;\">\n",
       "      <th></th>\n",
       "      <th>value</th>\n",
       "    </tr>\n",
       "    <tr>\n",
       "      <th>label</th>\n",
       "      <th></th>\n",
       "    </tr>\n",
       "  </thead>\n",
       "  <tbody>\n",
       "    <tr>\n",
       "      <td>0</td>\n",
       "      <td>69632</td>\n",
       "    </tr>\n",
       "    <tr>\n",
       "      <td>1000</td>\n",
       "      <td>280</td>\n",
       "    </tr>\n",
       "  </tbody>\n",
       "</table>\n",
       "</div>"
      ],
      "text/plain": [
       "       value\n",
       "label       \n",
       "0      69632\n",
       "1000     280"
      ]
     },
     "execution_count": 45,
     "metadata": {},
     "output_type": "execute_result"
    }
   ],
   "source": [
    "test_set.groupby(test_set.label).count()"
   ]
  },
  {
   "cell_type": "code",
   "execution_count": null,
   "metadata": {},
   "outputs": [],
   "source": []
  }
 ],
 "metadata": {
  "kernelspec": {
   "display_name": "Python 3",
   "language": "python",
   "name": "python3"
  },
  "language_info": {
   "codemirror_mode": {
    "name": "ipython",
    "version": 3
   },
   "file_extension": ".py",
   "mimetype": "text/x-python",
   "name": "python",
   "nbconvert_exporter": "python",
   "pygments_lexer": "ipython3",
   "version": "3.7.4"
  }
 },
 "nbformat": 4,
 "nbformat_minor": 4
}
