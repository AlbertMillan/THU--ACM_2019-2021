{
 "cells": [
  {
   "cell_type": "code",
   "execution_count": 1,
   "metadata": {},
   "outputs": [],
   "source": [
    "import numpy as np\n",
    "import pandas as pd\n",
    "import matplotlib.pyplot as plt\n",
    "from sklearn import preprocessing\n",
    "from sklearn.neighbors import LocalOutlierFactor\n",
    "from sklearn.metrics import f1_score\n",
    "import glob\n",
    "import os\n",
    "import tensorflow as tf\n",
    "%matplotlib inline"
   ]
  },
  {
   "cell_type": "markdown",
   "metadata": {},
   "source": [
    "## Model"
   ]
  },
  {
   "cell_type": "code",
   "execution_count": 2,
   "metadata": {},
   "outputs": [],
   "source": [
    "def conf_mat(pred,truth):\n",
    "#     print( np.count_nonzero(pred == truth) )\n",
    "#     print( len(pred) )\n",
    "    res = [0,0,0,0]\n",
    "    a = 0\n",
    "    \n",
    "    for i in range(len(truth)):\n",
    "        if truth[i] == 1:\n",
    "            if truth[i] == pred[i]:\n",
    "                a = 0\n",
    "            else:\n",
    "                a = 2\n",
    "                \n",
    "        else:\n",
    "            if truth[i] == pred[i]:\n",
    "                a = 1\n",
    "            else:\n",
    "                a = 3\n",
    "                \n",
    "        res[a] = res[a] + 1\n",
    "     \n",
    "    print(res)\n",
    "    return res"
   ]
  },
  {
   "cell_type": "code",
   "execution_count": 9,
   "metadata": {},
   "outputs": [],
   "source": [
    "def map_pred(pred):\n",
    "    res = np.zeros(len(pred))\n",
    "    for i in range(len(pred)):\n",
    "        if pred[i] == -1:\n",
    "            res[i] = 1\n",
    "            \n",
    "    return res"
   ]
  },
  {
   "cell_type": "markdown",
   "metadata": {},
   "source": [
    "## Multi-dataset Model"
   ]
  },
  {
   "cell_type": "code",
   "execution_count": null,
   "metadata": {
    "scrolled": true
   },
   "outputs": [],
   "source": [
    "input_dir = './../../train/KPI/'\n",
    "\n",
    "summary = pd.DataFrame(columns=['KPI', 'TP', 'TN', 'FP', 'FN', 'PRECISION', 'RECALL', 'F1_SCORE'])\n",
    "\n",
    "n_neighbors = 29\n",
    "\n",
    "for fname in os.listdir(input_dir):\n",
    "    df  = pd.read_csv(os.path.join(input_dir, fname), index_col='timestamp')\n",
    "    kpi_name = df['KPI ID'].values[0]\n",
    "    print(kpi_name)\n",
    "    df = df.drop(['KPI ID'], axis=1)\n",
    "    \n",
    "    # Normalize Values\n",
    "    normalized_df=(df-df.min())/(df.max()-df.min())\n",
    "    normalized_df = normalized_df.astype({'label': 'int64'})\n",
    "    \n",
    "    X = df.value.values.reshape(-1,1)\n",
    "    \n",
    "\n",
    "    # Train Model\n",
    "    model = LocalOutlierFactor(n_neighbors=21)\n",
    "#     model.fit(X)\n",
    "\n",
    "    # Make Predictions\n",
    "    predictions = map_pred(model.fit_predict(X))\n",
    "\n",
    "    # Compute Confusion Matrix\n",
    "    cf = conf_mat(predictions,df.label.values) \n",
    "\n",
    "    # F1-Score\n",
    "    prec = 0\n",
    "    rec = 0\n",
    "    f1 = 0\n",
    "    if (cf[0] + cf[2]) != 0:\n",
    "        prec = cf[0] / (cf[0] + cf[2])\n",
    "    if (cf[0] + cf[3]) != 0:\n",
    "        rec  = cf[0] / (cf[0] + cf[3])\n",
    "    if (prec + rec) != 0:\n",
    "        f1   = 2 * (prec * rec / (prec+rec))\n",
    "\n",
    "#     print(f1_score(predictions,y_test))\n",
    "\n",
    "\n",
    "    summary = summary.append({'KPI': kpi_name, \n",
    "                               'TP': cf[0],  \n",
    "                               'TN': cf[1], \n",
    "                               'FP': cf[2], \n",
    "                               'FN': cf[3], \n",
    "                               'PRECISION': prec, \n",
    "                               'RECALL': rec,     \n",
    "                               'F1_SCORE': f1 }, ignore_index=True)"
   ]
  },
  {
   "cell_type": "code",
   "execution_count": 4,
   "metadata": {},
   "outputs": [],
   "source": [
    "summary.to_csv('KNN_Res3.csv')"
   ]
  },
  {
   "cell_type": "code",
   "execution_count": 8,
   "metadata": {},
   "outputs": [
    {
     "data": {
      "text/plain": [
       "array([ 1,  1,  1, ...,  1, -1, -1])"
      ]
     },
     "execution_count": 8,
     "metadata": {},
     "output_type": "execute_result"
    }
   ],
   "source": [
    "predictions"
   ]
  },
  {
   "cell_type": "code",
   "execution_count": null,
   "metadata": {},
   "outputs": [],
   "source": [
    "predictions"
   ]
  }
 ],
 "metadata": {
  "kernelspec": {
   "display_name": "Python 3",
   "language": "python",
   "name": "python3"
  },
  "language_info": {
   "codemirror_mode": {
    "name": "ipython",
    "version": 3
   },
   "file_extension": ".py",
   "mimetype": "text/x-python",
   "name": "python",
   "nbconvert_exporter": "python",
   "pygments_lexer": "ipython3",
   "version": "3.7.4"
  }
 },
 "nbformat": 4,
 "nbformat_minor": 4
}
